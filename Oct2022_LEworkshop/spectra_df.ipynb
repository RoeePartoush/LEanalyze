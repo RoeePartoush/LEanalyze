{
 "cells": [
  {
   "cell_type": "code",
   "execution_count": 28,
   "id": "f9f736ff-2e18-4164-a91f-fdc3cba1d35d",
   "metadata": {},
   "outputs": [
    {
     "data": {
      "text/plain": [
       "'/Users/roeepartoush/Documents/Research/Code/LEanalyze'"
      ]
     },
     "execution_count": 28,
     "metadata": {},
     "output_type": "execute_result"
    }
   ],
   "source": [
    "pwd"
   ]
  },
  {
   "cell_type": "code",
   "execution_count": 27,
   "id": "c32e0de3-7cfc-4b6f-9190-996e777d36b2",
   "metadata": {},
   "outputs": [
    {
     "name": "stdout",
     "output_type": "stream",
     "text": [
      "/Users/roeepartoush/Documents/Research/Code/LEanalyze\n"
     ]
    }
   ],
   "source": [
    "cd ../"
   ]
  },
  {
   "cell_type": "code",
   "execution_count": 29,
   "id": "c28e3166-0a15-4aeb-bf48-157a1c268d4a",
   "metadata": {},
   "outputs": [],
   "source": [
    "# == IMPORTS ==\n",
    "\n",
    "# basic\n",
    "from tqdm import tqdm\n",
    "import os\n",
    "import numpy as np\n",
    "import pandas as pd\n",
    "from scipy import stats\n",
    "from scipy import interpolate\n",
    "from copy import deepcopy\n",
    "import matplotlib.pyplot as plt\n",
    "from mpl_toolkits.mplot3d import Axes3D\n",
    "\n",
    "\n",
    "# astropy\n",
    "from astropy.coordinates import SkyCoord\n",
    "from astropy.coordinates import Angle, Latitude, Longitude\n",
    "import astropy.units as u\n",
    "from astropy.io import ascii\n",
    "from astropy.time import Time\n",
    "from astropy import wcs\n",
    "from astropy.visualization import ZScaleInterval\n",
    "\n",
    "# Modeling\n",
    "from scipy.ndimage import gaussian_filter\n",
    "from scipy import signal\n",
    "from scipy import ndimage\n",
    "from scipy.optimize import curve_fit\n",
    "from lmfit import Model\n",
    "import lmfit\n",
    "# import corner # currently unused\n",
    "\n",
    "# local modules\n",
    "import File2Data as F2D\n",
    "import DustFit as DFit\n",
    "import LEtoolbox as LEtb\n",
    "import LEplots\n",
    "import run_global_vars"
   ]
  },
  {
   "cell_type": "code",
   "execution_count": 15,
   "id": "de8e91e2-877e-4e22-8b53-eb64a6807433",
   "metadata": {},
   "outputs": [],
   "source": [
    "# Region file format: DS9 version 4.1\n",
    "\n",
    "slits = []\n",
    "PAs = []\n",
    "LNs = []\n",
    "WDs = []\n",
    "dates = []\n",
    "\n",
    "# text(0:49:25.1165,+58:45:33.501) text={Sep12}\n",
    "# box(0:49:27.6670,+58:45:31.060,1.000\",120.000\",79)\n",
    "slits.append(SkyCoord(\"0h49m27.6670s\",\"+58d45m31.060s\",frame='fk5'))\n",
    "PAs.append(Angle(79,u.deg))\n",
    "LNs.append(Angle(120,u.arcsec))\n",
    "WDs.append(Angle(1,u.arcsec))\n",
    "dates.append('2012-09-18T00:00:00')\n",
    "\n",
    "# text(0:49:31.1429,+58:45:45.566) textangle=3.9809219e-05 text={Oct 13}\n",
    "# box(0:49:33.4240,+58:46:19.210,1.000\",100.000\",352)\n",
    "slits.append(SkyCoord(\"0h49m33.4240s\",\"+58d46m19.210s\",frame='fk5'))\n",
    "PAs.append(Angle(352,u.deg))\n",
    "LNs.append(Angle(100,u.arcsec))\n",
    "WDs.append(Angle(1,u.arcsec))\n",
    "dates.append('2013-10-05T00:00:00')\n",
    "\n",
    "# text(0:49:32.1203,+58:46:43.698) text={Dec 13}\n",
    "# box(0:49:29.6560,+58:45:04.440,1.000\",200.000\",24.5)\n",
    "slits.append(SkyCoord(\"0h49m29.6560s\",\"+58d45m04.440s\",frame='fk5'))\n",
    "PAs.append(Angle(24.5,u.deg))\n",
    "LNs.append(Angle(200,u.arcsec))\n",
    "WDs.append(Angle(1,u.arcsec))\n",
    "dates.append('2013-12-28T00:00:00')\n",
    "\n"
   ]
  },
  {
   "cell_type": "code",
   "execution_count": 16,
   "id": "b3150ea1-8087-4409-9a39-a2b307107624",
   "metadata": {},
   "outputs": [
    {
     "name": "stdout",
     "output_type": "stream",
     "text": [
      "12.365279166666665\n",
      "58.758627777777775\n"
     ]
    }
   ],
   "source": [
    "Orig = SkyCoord(\"0h49m27.6670s\",\"+58d45m31.060s\",frame='fk5')\n",
    "print(Orig.ra.deg)\n",
    "print(Orig.dec.deg)"
   ]
  },
  {
   "cell_type": "code",
   "execution_count": 17,
   "id": "b47b8af5-cdec-4b91-9d8d-71ffd6b26cdd",
   "metadata": {},
   "outputs": [],
   "source": [
    "Orgs=SkyCoord(slits,frame='fk5',unit=(u.deg, u.deg))\n",
    "PA = (Angle(PAs)+Angle(180,u.deg)).wrap_at(360 * u.deg)\n",
    "Ln = Angle(LNs,u.arcsec)\n",
    "Wd = Angle(WDs,u.arcsec)\n",
    "Dt = Time(dates, format='isot', scale='utc')\n",
    "\n",
    "\n",
    "clmns = ['Orig', 'PA', 'Length', 'Width']\n",
    "slitFPdf = pd.DataFrame(index=np.arange(len(Orgs)), columns=clmns, data = [(Orgs[i],PA[i],Ln[i],Wd[i]) for i in np.arange(len(Orgs))])\n",
    "\n",
    "spectra_df = slitFPdf.copy()\n",
    "spectra_df.insert(spectra_df.shape[1],'date',Dt)"
   ]
  },
  {
   "cell_type": "code",
   "execution_count": 19,
   "id": "c6921e72-2520-4020-9a4b-732d0c4563c7",
   "metadata": {},
   "outputs": [],
   "source": [
    "def df2writable(spectra_df):\n",
    "    spectra_df_wr = spectra_df.copy()\n",
    "    spectra_df_wr.insert(1,'RA',None)\n",
    "    spectra_df_wr.insert(2,'DEC',None)\n",
    "    for i in np.arange(len(spectra_df_wr)):\n",
    "        Orig = spectra_df_wr.at[i,'Orig']\n",
    "        spectra_df_wr.at[i,'RA'] = Orig.ra.to_string()\n",
    "        spectra_df_wr.at[i,'DEC'] = Orig.dec.to_string()\n",
    "    spectra_df_wr.drop(columns='Orig',inplace=True)\n",
    "    return spectra_df_wr\n",
    "\n",
    "def writable2df(spectra_df_wr):\n",
    "    spectra_df = spectra_df_wr.copy()\n",
    "    spectra_df.insert(0,'Orig',None)\n",
    "    for i in np.arange(len(spectra_df)):\n",
    "        ra = spectra_df.at[i,'RA']\n",
    "        dec = spectra_df_wr.at[i,'DEC']\n",
    "        Orig = SkyCoord(ra,dec,frame='fk5')\n",
    "        spectra_df.at[i,'Orig'] = Orig\n",
    "\n",
    "        PA = spectra_df.at[i,'PA']\n",
    "        spectra_df.at[i,'PA'] = Angle(PA)\n",
    "        \n",
    "        Ln = spectra_df.at[i,'Length']\n",
    "        spectra_df.at[i,'Length'] = Angle(Ln)\n",
    "        \n",
    "        Wd = spectra_df.at[i,'Width']\n",
    "        spectra_df.at[i,'Width'] = Angle(Wd)\n",
    "        \n",
    "        Dt = spectra_df.at[i,'date']\n",
    "        spectra_df.at[i,'Width'] = Time(Dt, format='isot', scale='utc')\n",
    "    \n",
    "    spectra_df.drop(columns=['RA','DEC'],inplace=True)\n",
    "    return spectra_df"
   ]
  },
  {
   "cell_type": "code",
   "execution_count": 20,
   "id": "4c58a095-e450-46e9-9ec6-ec3721f798e1",
   "metadata": {},
   "outputs": [
    {
     "data": {
      "text/plain": [
       "'12d21m55.005s'"
      ]
     },
     "execution_count": 20,
     "metadata": {},
     "output_type": "execute_result"
    }
   ],
   "source": [
    "# spectra_df_wr = convert2writable(\n",
    "spectra_df_wr = spectra_df.copy()\n",
    "Orig = spectra_df_wr.at[0,'Orig']\n",
    "Orig.ra.to_string()\n",
    "# Orig.dec.to_string()"
   ]
  },
  {
   "cell_type": "code",
   "execution_count": 21,
   "id": "d07b6767-5331-43a5-a8b4-b0ebd74da715",
   "metadata": {},
   "outputs": [],
   "source": [
    "df2writable(spectra_df).to_csv('spectra.csv',index=False)"
   ]
  },
  {
   "cell_type": "code",
   "execution_count": 22,
   "id": "f9fb1798-1ff4-4145-abc2-3430cfb82c35",
   "metadata": {},
   "outputs": [
    {
     "data": {
      "text/plain": [
       "240.0"
      ]
     },
     "execution_count": 22,
     "metadata": {},
     "output_type": "execute_result"
    }
   ],
   "source": [
    "Angle('240d00m00s').deg"
   ]
  },
  {
   "cell_type": "code",
   "execution_count": 23,
   "id": "a7c75144-c092-4091-8f7b-9c58bfc08853",
   "metadata": {},
   "outputs": [],
   "source": [
    "df = pd.read_csv('spectra.csv')"
   ]
  },
  {
   "cell_type": "code",
   "execution_count": 24,
   "id": "bac8548f-d2fe-4654-8e69-4e76eb10b8cc",
   "metadata": {},
   "outputs": [
    {
     "data": {
      "text/plain": [
       "astropy.coordinates.angles.Angle"
      ]
     },
     "execution_count": 24,
     "metadata": {},
     "output_type": "execute_result"
    }
   ],
   "source": [
    "type(writable2df(df).loc[0,'PA'])"
   ]
  }
 ],
 "metadata": {
  "kernelspec": {
   "display_name": "Python 3",
   "language": "python",
   "name": "python3"
  },
  "language_info": {
   "codemirror_mode": {
    "name": "ipython",
    "version": 3
   },
   "file_extension": ".py",
   "mimetype": "text/x-python",
   "name": "python",
   "nbconvert_exporter": "python",
   "pygments_lexer": "ipython3",
   "version": "3.7.11"
  }
 },
 "nbformat": 4,
 "nbformat_minor": 5
}
