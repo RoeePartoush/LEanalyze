{
 "cells": [
  {
   "cell_type": "code",
   "execution_count": 1,
   "metadata": {},
   "outputs": [],
   "source": [
    "import imexam\n",
    "import os"
   ]
  },
  {
   "cell_type": "code",
   "execution_count": 80,
   "metadata": {},
   "outputs": [],
   "source": [
    "#viewer = imexam.connect(path='/Users/roeepartoush/opt/anaconda3/envs/astroconda/bin/ds9')\n",
    "viewer = imexam.connect(path='/Applications/SAOImageDS9.app/Contents/MacOS/ds9')"
   ]
  },
  {
   "cell_type": "code",
   "execution_count": 3,
   "metadata": {},
   "outputs": [],
   "source": [
    "files=[]\n",
    "# root='/Users/roeepartoush/Documents/Research/Data/DOWNLOAD/armin/ut120919/4/'\n",
    "# root='/Users/roeepartoush/Documents/Research/Data/DOWNLOAD/armin/leKeck/tyc4419a1/FIXED'\n",
    "# root='/Users/roeepartoush/Documents/Research/Data/DOWNLOAD/plhstproc/tyc4419/1/'\n",
    "#for file in os.listdir(root):\n",
    "#    if file.endswith('.fits'):\n",
    "#        files.append(os.path.join(root,file))\n",
    "root = '/Users/roeepartoush/Documents/Research/Data/swarp_test/tycA1/'\n",
    "files1=['20120118/tyc4419_tyc4519_20120118_coadd.fits',\n",
    "        '20120626/tyc4419_tyc4519_20120626_coadd.fits',\n",
    "        'KECK/tyc4419_1.R.r120918_0182_4.hdrfix_CORRECTED_DEG_MJD.sw._NOT_REALLY_coadd.fits',\n",
    "        '20130109/tyc4419_tyc4519_20130109_coadd.fits',\n",
    "        '20130609/tyc4419_tyc4519_20130609_coadd.fits',\n",
    "        '20130826/tyc4419_tyc4519_20130826_coadd.fits',\n",
    "        'KECK/tyc4419_1_DEIMOS_5_6_coadd.fits',\n",
    "        '20131202/tyc4419_tyc4519_20131202_coadd.fits',\n",
    "        'KECK/tyc4419_1_g_LRIS_131228_coadd.fits',\n",
    "        'KECK/tyc4419_1_R_LRIS_131228_coadd.fits',\n",
    "        '20140226/tyc4419_tyc4519_20140226_coadd.fits',\n",
    "        '20140531/tyc4419_tyc4519_20140531_coadd.fits',\n",
    "        '20140621/tyc4419_tyc4519_20140621_coadd.fits',\n",
    "        '20140827/tyc4419_tyc4519_20140827_coadd.fits',\n",
    "        '20140923/tyc4419_tyc4519_20140923_coadd.fits']\n",
    "for file in files1:\n",
    "    files.append(root+file)"
   ]
  },
  {
   "cell_type": "code",
   "execution_count": 41,
   "metadata": {},
   "outputs": [
    {
     "data": {
      "text/plain": [
       "'/Users/roeepartoush/Documents/Research/Data/swarp_test/tycA1/KECK/tyc4419_1_R_LRIS_131228_coadd.fits'"
      ]
     },
     "execution_count": 41,
     "metadata": {},
     "output_type": "execute_result"
    }
   ],
   "source": [
    "files[9]"
   ]
  },
  {
   "cell_type": "code",
   "execution_count": 78,
   "metadata": {},
   "outputs": [
    {
     "data": {
      "text/plain": [
       "{'function': ['curve_of_growth'],\n",
       " 'title': [None, 'Title of the plot'],\n",
       " 'xlabel': ['radius', 'The string for the xaxis label'],\n",
       " 'ylabel': ['Encircled Flux', 'The string for the yaxis label'],\n",
       " 'center': [True, 'Fit for center? [bool]'],\n",
       " 'background': [True, 'Fit and subtract background? [bool]'],\n",
       " 'buffer': [25.0, 'Background inner radius in pixels,from center of star'],\n",
       " 'width': [5.0, 'Background annulus width in pixels'],\n",
       " 'magzero': [25.0, 'magnitude zero point'],\n",
       " 'rplot': [20.0, 'Plotting radius in pixels'],\n",
       " 'pointmode': [True, 'plot points instead of lines? [bool]'],\n",
       " 'marker': ['o', 'The marker character to use, matplotlib style'],\n",
       " 'logx': [False, 'log scale x-axis?'],\n",
       " 'logy': [False, 'log scale y-axis?'],\n",
       " 'minflux': [0.0, 'only measure flux above this value'],\n",
       " 'getdata': [True, 'return the plotted data values']}"
      ]
     },
     "execution_count": 78,
     "metadata": {},
     "output_type": "execute_result"
    }
   ],
   "source": [
    "#viewer.exam.aper_phot_pars\n",
    "#viewer.exam.aper_phot_pars#['radius']=[14, 'Radius of aperture for star flux']\n",
    "#viewer.exam.aper_phot_pars#['radius']=[14, 'Radius of aperture for star flux']\n",
    "viewer.exam.curve_of_growth_pars#['rplot']=[20.0, 'Plotting radius in pixels']"
   ]
  },
  {
   "cell_type": "code",
   "execution_count": 81,
   "metadata": {},
   "outputs": [
    {
     "name": "stdout",
     "output_type": "stream",
     "text": [
      "\n",
      "Press 'q' to quit\n",
      "\n",
      "2 Make the next plot in a new window\n",
      "a Aperture sum, with radius region_size \n",
      "b Return the 2D gauss fit center of the object\n",
      "c Return column plot\n",
      "d Return the Center of Mass fit center of the object\n",
      "e Return a contour plot in a region around the cursor\n",
      "g Return curve of growth plot\n",
      "h Return a histogram in the region around the cursor\n",
      "j 1D [Gaussian1D default] line fit \n",
      "k 1D [Gaussian1D default] column fit\n",
      "l Return line plot\n",
      "m Square region stats, in [region_size],default is median\n",
      "r Return the radial profile plot\n",
      "s Save current figure to disk as [plot_name]\n",
      "t Make a fits image cutout using pointer location\n",
      "w Display a surface plot around the cursor location\n",
      "x Return x,y,value of pixel\n",
      "y Return x,y,value of pixel\n",
      "Current image /Users/roeepartoush/Documents/Research/Data/swarp_test/tycA1/KECK/tyc4419_1_R_LRIS_131228_coadd.fits\n"
     ]
    }
   ],
   "source": [
    "#import matplotlib.pyplot as plt\n",
    "#viewer = imexam.connect(path='/Applications/SAOImageDS9.app/Contents/MacOS/ds9')\n",
    "#root='/Users/roeep rtoush/Documents/Research/Data/DOWNLOAD/armin/leKeck/tyc4419a1/FIXED/'\n",
    "#viewer.load_fits(os.path.join(root,'tyc4519.VR.20140827.105550_stch_5.sw.fits'))\n",
    "viewer.load_fits(files[9])\n",
    "viewer.scale()\n",
    "#plt.ion()\n",
    "#plt.figure()\n",
    "viewer.imexam()"
   ]
  }
 ],
 "metadata": {
  "kernelspec": {
   "display_name": "Python 3",
   "language": "python",
   "name": "python3"
  },
  "language_info": {
   "codemirror_mode": {
    "name": "ipython",
    "version": 3
   },
   "file_extension": ".py",
   "mimetype": "text/x-python",
   "name": "python",
   "nbconvert_exporter": "python",
   "pygments_lexer": "ipython3",
   "version": "3.7.6"
  }
 },
 "nbformat": 4,
 "nbformat_minor": 4
}
