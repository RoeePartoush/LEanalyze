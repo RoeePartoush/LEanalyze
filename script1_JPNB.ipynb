{
 "cells": [
  {
   "cell_type": "code",
   "execution_count": null,
   "metadata": {},
   "outputs": [],
   "source": [
    "#!/usr/bin/env python3\n",
    "# -*- coding: utf-8 -*-\n",
    "\"\"\"\n",
    "Created on Sat Sep 21 18:30:55 2019\n",
    "\n",
    "@author: roeepartoush\n",
    "\"\"\"\n",
    "\n",
    "# %%\n",
    "import numpy as np\n",
    "\n",
    "from scipy import signal as sp\n",
    "from scipy import interpolate as intp\n",
    "\n",
    "# Set up matplotlib\n",
    "import matplotlib.pyplot as plt\n",
    "\n",
    "#%matplotlib inline\n",
    "\n",
    "from astropy.io import fits\n",
    "\n",
    "#from astropy.utils import data\n",
    "\n",
    "from astropy.utils.data import download_file\n",
    "from astropy.utils.data import get_readable_fileobj\n",
    "from astropy.utils.data import get_file_contents"
   ]
  },
  {
   "cell_type": "code",
   "execution_count": null,
   "metadata": {},
   "outputs": [],
   "source": [
    "point = np.array([[1520],[1760]])\n",
    "\n",
    "angle = 70;\n",
    "unitvec = np.array([[np.cos(np.radians(angle))],[np.sin(np.radians(angle))]])\n",
    "\n",
    "lnlen = 200;\n",
    "\n",
    "vec = np.round(np.squeeze(np.linspace(point-unitvec*lnlen/2,point+unitvec*lnlen/2,np.floor(lnlen)+1),2))\n",
    "#x=np.round(vec)\n",
    "#plt.scatter(vec[:,0],vec[:,1])"
   ]
  },
  {
   "cell_type": "code",
   "execution_count": null,
   "metadata": {},
   "outputs": [],
   "source": [
    "imimim = image_data_tmp\n",
    "#imimim = img_flt\n",
    "img_dt_ind = imimim.flatten();\n",
    "inds = np.ravel_multi_index([vec[:,1].astype(int),vec[:,0].astype(int)], (2200,4200))\n",
    "#img_dt_ind[inds] = 10;\n",
    "img_smp = img_dt_ind[inds]\n",
    "\n",
    "#f = intp.interp2d(np.arange(4200),np.arange(2200), imimim, kind='linear')\n",
    "#img_smp = f(vec[:,0],vec[:,1])\n",
    "\n",
    "#N = 1000\n",
    "#S = 4500000\n",
    "#plt.scatter(np.arange(N),img_dt_ind[S:(S+N)])\n",
    "#img_dt_ind = np.reshape(img_dt_ind,(2200,4200))\n",
    "#plt.imshow(img_dt_ind, cmap='gray')\n",
    "hh = plt.figure(3)\n",
    "#plt.plot(np.arange(inds.size),img_smp.flatten()[np.arange(0,201*201-1+202,202)])\n",
    "plt.plot(np.arange(inds.size),img_smp)"
   ]
  },
  {
   "cell_type": "code",
   "execution_count": null,
   "metadata": {},
   "outputs": [],
   "source": [
    "img_fft2 = np.fft.fft2(image_data_tmp)\n",
    "#plt.imshow(np.fft.fftshift(np.log10(np.abs(img_fft2))),extent=[-0.5,0.5,-0.5,0.5], cmap='gray')\n",
    "plt.imshow(np.fft.ifft2(img_fft2))\n",
    "plt.colorbar()"
   ]
  },
  {
   "cell_type": "code",
   "execution_count": null,
   "metadata": {},
   "outputs": [],
   "source": [
    "fx = np.linspace(-0.5,0.5,4200)\n",
    "fy = np.linspace(-0.5,0.5,2200)\n",
    "\n",
    "fxm, fym = np.meshgrid(fx,fy)\n",
    "ind_bool = np.fft.ifftshift(np.sqrt(np.power(fym,2)+np.power(fxm,2))>0.05);\n",
    "#plt.imshow(ind_bool, cmap='gray', extent=[-0.5,0.5,-0.5,0.5])\n",
    "img_fft2_flt = img_fft2\n",
    "img_fft2_flt[ind_bool]=0.001\n",
    "#plt.imshow(np.fft.fftshift(np.log10(np.abs(img_fft2_flt))), cmap='gray', extent=[-0.5,0.5,-0.5,0.5])\n",
    "#plt.colorbar()\n",
    "# %%\n",
    "img_dt_ind = image_data_tmp.flatten();\n",
    "img_dt_ind[np.ravel_multi_index([vec[:,1].astype(int),vec[:,0].astype(int)], (2200,4200))] = 10;\n",
    "#N = 1000\n",
    "#S = 4500000\n",
    "#plt.scatter(np.arange(N),img_dt_ind[S:(S+N)])\n",
    "img_dt_ind = np.reshape(img_dt_ind,(2200,4200))\n",
    "plt.imshow(img_dt_ind, cmap='gray')"
   ]
  },
  {
   "cell_type": "code",
   "execution_count": null,
   "metadata": {},
   "outputs": [],
   "source": [
    "img_flt = sp.medfilt(image_data_tmp,3)\n",
    "f = plt.figure(17)\n",
    "plt.imshow(img_flt, cmap='gray')\n",
    "plt.colorbar()"
   ]
  }
 ],
 "metadata": {
  "kernelspec": {
   "display_name": "Python 3",
   "language": "python",
   "name": "python3"
  },
  "language_info": {
   "codemirror_mode": {
    "name": "ipython",
    "version": 3
   },
   "file_extension": ".py",
   "mimetype": "text/x-python",
   "name": "python",
   "nbconvert_exporter": "python",
   "pygments_lexer": "ipython3",
   "version": "3.7.4"
  }
 },
 "nbformat": 4,
 "nbformat_minor": 2
}
